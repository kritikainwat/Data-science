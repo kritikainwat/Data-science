{
  "nbformat": 4,
  "nbformat_minor": 0,
  "metadata": {
    "colab": {
      "provenance": [],
      "authorship_tag": "ABX9TyPE5ZwhJ6BdItV6CmUNhYSS"
    },
    "kernelspec": {
      "name": "python3",
      "display_name": "Python 3"
    },
    "language_info": {
      "name": "python"
    }
  },
  "cells": [
    {
      "cell_type": "code",
      "execution_count": 1,
      "metadata": {
        "colab": {
          "base_uri": "https://localhost:8080/"
        },
        "id": "dhT2346seB_C",
        "outputId": "a1809715-ba9d-44f1-cb6a-884151e73d7e"
      },
      "outputs": [
        {
          "output_type": "stream",
          "name": "stdout",
          "text": [
            "Sales by Alice:\n",
            "    id customer_name     product  amount        date\n",
            "0   1         Alice      Laptop    1200  2024-01-01\n",
            "1   3         Alice  Headphones     200  2024-01-03\n",
            "\n",
            "Total Sales per Customer:\n",
            "   customer_name  total_sales\n",
            "0         Alice         1400\n",
            "1           Bob         2050\n",
            "2       Charlie         1300\n",
            "\n",
            "Top Selling Product:\n",
            "   product  total_amount\n",
            "0  Laptop          3750\n",
            "\n",
            "Monthly Sales Totals:\n",
            "      month  monthly_total\n",
            "0  2024-01           4750\n"
          ]
        }
      ],
      "source": [
        "import sqlite3\n",
        "import pandas as pd\n",
        "\n",
        "# Connect to in-memory SQLite database\n",
        "conn = sqlite3.connect(\":memory:\")\n",
        "cursor = conn.cursor()\n",
        "\n",
        "# Create the sales table\n",
        "cursor.execute(\"\"\"\n",
        "CREATE TABLE sales (\n",
        "    id INTEGER PRIMARY KEY,\n",
        "    customer_name TEXT,\n",
        "    product TEXT,\n",
        "    amount INTEGER,\n",
        "    date TEXT\n",
        ");\n",
        "\"\"\")\n",
        "\n",
        "# Insert example data\n",
        "sales_data = [\n",
        "    (1, 'Alice', 'Laptop', 1200, '2024-01-01'),\n",
        "    (2, 'Bob', 'Phone', 800, '2024-01-02'),\n",
        "    (3, 'Alice', 'Headphones', 200, '2024-01-03'),\n",
        "    (4, 'Charlie', 'Laptop', 1300, '2024-01-04'),\n",
        "    (5, 'Bob', 'Laptop', 1250, '2024-01-05'),\n",
        "]\n",
        "\n",
        "cursor.executemany(\"INSERT INTO sales VALUES (?, ?, ?, ?, ?);\", sales_data)\n",
        "conn.commit()\n",
        "\n",
        "# 1. Extract all sales by Alice\n",
        "query1 = \"SELECT * FROM sales WHERE customer_name = 'Alice';\"\n",
        "df1 = pd.read_sql_query(query1, conn)\n",
        "print(\"Sales by Alice:\\n\", df1)\n",
        "\n",
        "# 2. Total sales per customer\n",
        "query2 = \"SELECT customer_name, SUM(amount) AS total_sales FROM sales GROUP BY customer_name;\"\n",
        "df2 = pd.read_sql_query(query2, conn)\n",
        "print(\"\\nTotal Sales per Customer:\\n\", df2)\n",
        "\n",
        "# 3. Top selling product\n",
        "query3 = \"\"\"\n",
        "SELECT product, SUM(amount) AS total_amount\n",
        "FROM sales\n",
        "GROUP BY product\n",
        "ORDER BY total_amount DESC\n",
        "LIMIT 1;\n",
        "\"\"\"\n",
        "df3 = pd.read_sql_query(query3, conn)\n",
        "print(\"\\nTop Selling Product:\\n\", df3)\n",
        "\n",
        "# 4. Monthly sales totals\n",
        "query4 = \"\"\"\n",
        "SELECT strftime('%Y-%m', date) AS month, SUM(amount) AS monthly_total\n",
        "FROM sales\n",
        "GROUP BY month;\n",
        "\"\"\"\n",
        "df4 = pd.read_sql_query(query4, conn)\n",
        "print(\"\\nMonthly Sales Totals:\\n\", df4)\n",
        "\n",
        "# Close the connection\n",
        "conn.close()\n"
      ]
    }
  ]
}